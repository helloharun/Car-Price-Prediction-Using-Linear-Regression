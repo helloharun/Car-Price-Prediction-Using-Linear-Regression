{
 "cells": [
  {
   "cell_type": "code",
   "execution_count": 1,
   "metadata": {},
   "outputs": [],
   "source": [
    "from flask import Flask, request, jsonify\n",
    "import joblib\n",
    "import pandas as pd\n",
    "from datetime import datetime\n",
    "from sklearn.preprocessing import StandardScaler"
   ]
  },
  {
   "cell_type": "code",
   "execution_count": 2,
   "metadata": {},
   "outputs": [],
   "source": [
    "app = Flask(__name__)"
   ]
  },
  {
   "cell_type": "code",
   "execution_count": 3,
   "metadata": {},
   "outputs": [],
   "source": [
    "#sample input data\n",
    "payload_sample = {\n",
    "   \"km_driven\": 50000,\n",
    "   \"transmission\": \"Manual\",\n",
    "   \"mileage\": 15,\n",
    "   \"engine\": 1200,\n",
    "   \"seats\": 6,\n",
    "   \"manufactured_year\":2011,\n",
    "   \"fuel_type\": \"Petrol\",\n",
    "   \"seller_type\": \"Individual\"\n",
    "}"
   ]
  },
  {
   "cell_type": "code",
   "execution_count": 4,
   "metadata": {},
   "outputs": [],
   "source": [
    "@app.get(\"/model/sample\")\n",
    "def model_sample_input():\n",
    "   return jsonify(payload_sample)"
   ]
  },
  {
   "cell_type": "code",
   "execution_count": 5,
   "metadata": {},
   "outputs": [],
   "source": [
    "@app.route(\"/model/explain\", methods=['GET'])\n",
    "def model_explain():\n",
    "    explanation = (\n",
    "        \"This dataset contains information about used cars. Here are the details for each field:\\n\\n\"\n",
    "        \"1) km_driven: The total kilometers driven by the car. Enter a numeric value (e.g., 15000).\\n\\n\"\n",
    "        \"2) fuel: The type of fuel the car uses. Choose from:\\n\"\n",
    "        \"   - Petrol\\n\"\n",
    "        \"   - Diesel\\n\\n\"\n",
    "        \"3) seller_type: The type of seller. Choose from:\\n\"\n",
    "        \"   - Individual\\n\"\n",
    "        \"   - Dealer\\n\\n\"\n",
    "        \"4) transmission: The type of transmission. Choose from:\\n\"\n",
    "        \"   - Manual\\n\"\n",
    "        \"   - Automatic\\n\\n\"\n",
    "        \"5) mileage: The mileage of the car in kilometers per liter (kmpl). Enter a numeric value (e.g., 15).\\n\\n\"\n",
    "        \"6) engine: The engine capacity in cubic centimeters (cc). This represents the total volume of all cylinders in the engine. Enter a numeric value (e.g., 1280 for a 1280 cc engine).\\n\\n\"\n",
    "        \"7) seats: The number of seats in the car, including the driver's seat. Enter a numeric value (e.g., 5 for a typical 5-seater car).\\n\\n\"\n",
    "        \"8) year: The year the car was manufactured. Enter a valid year (e.g., 2010, 2020).\\n\"\n",
    "    )\n",
    "    return explanation"
   ]
  },
  {
   "cell_type": "code",
   "execution_count": 6,
   "metadata": {},
   "outputs": [],
   "source": [
    "@app.route(\"/model/evaluate\", methods=['POST'])\n",
    "def evaluate_lr_model():\n",
    "   loaded_model = joblib.load('best_model.joblib')\n",
    "\n",
    "   if request.is_json:\n",
    "      #get the student and append to the list\n",
    "      payload = request.get_json()\n",
    "      df = pd.DataFrame([payload])\n",
    "      \n",
    "      # calculating the car_used_years\n",
    "      current_year = datetime.now().year\n",
    "      df['car_used_years'] = current_year - df['manufactured_year']\n",
    "\n",
    "      # Map categorical variables\n",
    "      df['transmission'] = df['transmission'].map({'Manual': 0, 'Automatic': 1})\n",
    "      df['fuel'] = df['fuel'].map({'Petrol':0, 'Diesel':1})\n",
    "      df['seller_type'] = df['seller_type'].map({'Dealer':0, 'Individual': 1})\n",
    "\n",
    "      df.drop('manufactured_year', axis=1, inplace=True)\n",
    "      print(df.columns)\n",
    "\n",
    "      scaler = joblib.load('scaler.joblib')\n",
    "\n",
    "      scaled_df = scaler.transform(df) # Apply scaling to the input data\n",
    "      \n",
    "      predictions = loaded_model.predict(scaled_df)\n",
    "\n",
    "      return {\"predicted_selling_price\":f'{predictions[0]:.2f}' }\n",
    "   else:\n",
    "      return {\"Error\": \"Request must be JSON\"}\n",
    "\n"
   ]
  },
  {
   "cell_type": "code",
   "execution_count": null,
   "metadata": {},
   "outputs": [],
   "source": []
  },
  {
   "cell_type": "code",
   "execution_count": null,
   "metadata": {},
   "outputs": [],
   "source": []
  },
  {
   "cell_type": "code",
   "execution_count": null,
   "metadata": {},
   "outputs": [
    {
     "name": "stdout",
     "output_type": "stream",
     "text": [
      " * Serving Flask app '__main__'\n",
      " * Debug mode: off\n"
     ]
    },
    {
     "name": "stderr",
     "output_type": "stream",
     "text": [
      "\u001b[31m\u001b[1mWARNING: This is a development server. Do not use it in a production deployment. Use a production WSGI server instead.\u001b[0m\n",
      " * Running on http://127.0.0.1:5000\n",
      "\u001b[33mPress CTRL+C to quit\u001b[0m\n",
      "127.0.0.1 - - [22/Nov/2024 23:00:09] \"GET /model/sample HTTP/1.1\" 200 -\n",
      "127.0.0.1 - - [22/Nov/2024 23:00:09] \"GET /model/sample HTTP/1.1\" 200 -\n",
      "127.0.0.1 - - [22/Nov/2024 23:00:11] \"GET /model/explain HTTP/1.1\" 200 -\n",
      "/Users/harunrai/Downloads/Data-Analytics/DC-ACADEMIC-2024/Semester 2/Statistical Pred Modelling/Assignment 3 - Webservers/env/lib/python3.11/site-packages/sklearn/base.py:486: UserWarning: X has feature names, but StandardScaler was fitted without feature names\n",
      "  warnings.warn(\n",
      "127.0.0.1 - - [22/Nov/2024 23:00:23] \"POST /model/evaluate HTTP/1.1\" 200 -\n"
     ]
    },
    {
     "name": "stdout",
     "output_type": "stream",
     "text": [
      "Index(['km_driven', 'fuel', 'seller_type', 'transmission', 'mileage', 'engine',\n",
      "       'seats', 'car_used_years'],\n",
      "      dtype='object')\n"
     ]
    },
    {
     "name": "stderr",
     "output_type": "stream",
     "text": [
      "127.0.0.1 - - [22/Nov/2024 23:03:33] \"GET /model/explain HTTP/1.1\" 200 -\n",
      "127.0.0.1 - - [22/Nov/2024 23:05:51] \"\u001b[33mGET / HTTP/1.1\u001b[0m\" 404 -\n",
      "127.0.0.1 - - [22/Nov/2024 23:05:51] \"\u001b[33mGET /favicon.ico HTTP/1.1\u001b[0m\" 404 -\n",
      "127.0.0.1 - - [22/Nov/2024 23:23:24] \"GET /model/sample HTTP/1.1\" 200 -\n",
      "127.0.0.1 - - [22/Nov/2024 23:23:52] \"GET /model/explain HTTP/1.1\" 200 -\n",
      "/Users/harunrai/Downloads/Data-Analytics/DC-ACADEMIC-2024/Semester 2/Statistical Pred Modelling/Assignment 3 - Webservers/env/lib/python3.11/site-packages/sklearn/base.py:486: UserWarning: X has feature names, but StandardScaler was fitted without feature names\n",
      "  warnings.warn(\n",
      "127.0.0.1 - - [22/Nov/2024 23:25:06] \"POST /model/evaluate HTTP/1.1\" 200 -\n"
     ]
    },
    {
     "name": "stdout",
     "output_type": "stream",
     "text": [
      "Index(['km_driven', 'transmission', 'mileage', 'engine', 'seats', 'fuel',\n",
      "       'seller_type', 'car_used_years'],\n",
      "      dtype='object')\n"
     ]
    },
    {
     "name": "stderr",
     "output_type": "stream",
     "text": [
      "127.0.0.1 - - [22/Nov/2024 23:26:16] \"GET /model/sample HTTP/1.1\" 200 -\n",
      "127.0.0.1 - - [22/Nov/2024 23:26:22] \"GET /model/explain HTTP/1.1\" 200 -\n",
      "/Users/harunrai/Downloads/Data-Analytics/DC-ACADEMIC-2024/Semester 2/Statistical Pred Modelling/Assignment 3 - Webservers/env/lib/python3.11/site-packages/sklearn/base.py:486: UserWarning: X has feature names, but StandardScaler was fitted without feature names\n",
      "  warnings.warn(\n",
      "127.0.0.1 - - [22/Nov/2024 23:26:31] \"POST /model/evaluate HTTP/1.1\" 200 -\n"
     ]
    },
    {
     "name": "stdout",
     "output_type": "stream",
     "text": [
      "Index(['km_driven', 'transmission', 'mileage', 'engine', 'seats', 'fuel',\n",
      "       'seller_type', 'car_used_years'],\n",
      "      dtype='object')\n"
     ]
    },
    {
     "name": "stderr",
     "output_type": "stream",
     "text": [
      "/Users/harunrai/Downloads/Data-Analytics/DC-ACADEMIC-2024/Semester 2/Statistical Pred Modelling/Assignment 3 - Webservers/env/lib/python3.11/site-packages/sklearn/base.py:486: UserWarning: X has feature names, but StandardScaler was fitted without feature names\n",
      "  warnings.warn(\n",
      "127.0.0.1 - - [22/Nov/2024 23:27:55] \"POST /model/evaluate HTTP/1.1\" 200 -\n"
     ]
    },
    {
     "name": "stdout",
     "output_type": "stream",
     "text": [
      "Index(['km_driven', 'fuel', 'seller_type', 'transmission', 'mileage', 'engine',\n",
      "       'seats', 'car_used_years'],\n",
      "      dtype='object')\n"
     ]
    },
    {
     "name": "stderr",
     "output_type": "stream",
     "text": [
      "/Users/harunrai/Downloads/Data-Analytics/DC-ACADEMIC-2024/Semester 2/Statistical Pred Modelling/Assignment 3 - Webservers/env/lib/python3.11/site-packages/sklearn/base.py:486: UserWarning: X has feature names, but StandardScaler was fitted without feature names\n",
      "  warnings.warn(\n",
      "127.0.0.1 - - [22/Nov/2024 23:28:34] \"POST /model/evaluate HTTP/1.1\" 200 -\n"
     ]
    },
    {
     "name": "stdout",
     "output_type": "stream",
     "text": [
      "Index(['km_driven', 'fuel', 'seller_type', 'transmission', 'mileage', 'engine',\n",
      "       'seats', 'car_used_years'],\n",
      "      dtype='object')\n"
     ]
    },
    {
     "name": "stderr",
     "output_type": "stream",
     "text": [
      "/Users/harunrai/Downloads/Data-Analytics/DC-ACADEMIC-2024/Semester 2/Statistical Pred Modelling/Assignment 3 - Webservers/env/lib/python3.11/site-packages/sklearn/base.py:486: UserWarning: X has feature names, but StandardScaler was fitted without feature names\n",
      "  warnings.warn(\n",
      "127.0.0.1 - - [22/Nov/2024 23:29:04] \"POST /model/evaluate HTTP/1.1\" 200 -\n"
     ]
    },
    {
     "name": "stdout",
     "output_type": "stream",
     "text": [
      "Index(['km_driven', 'fuel', 'seller_type', 'transmission', 'mileage', 'engine',\n",
      "       'seats', 'car_used_years'],\n",
      "      dtype='object')\n"
     ]
    },
    {
     "name": "stderr",
     "output_type": "stream",
     "text": [
      "/Users/harunrai/Downloads/Data-Analytics/DC-ACADEMIC-2024/Semester 2/Statistical Pred Modelling/Assignment 3 - Webservers/env/lib/python3.11/site-packages/sklearn/base.py:486: UserWarning: X has feature names, but StandardScaler was fitted without feature names\n",
      "  warnings.warn(\n",
      "127.0.0.1 - - [22/Nov/2024 23:29:50] \"POST /model/evaluate HTTP/1.1\" 200 -\n"
     ]
    },
    {
     "name": "stdout",
     "output_type": "stream",
     "text": [
      "Index(['km_driven', 'fuel', 'seller_type', 'transmission', 'mileage', 'engine',\n",
      "       'seats', 'car_used_years'],\n",
      "      dtype='object')\n"
     ]
    },
    {
     "name": "stderr",
     "output_type": "stream",
     "text": [
      "127.0.0.1 - - [22/Nov/2024 23:30:20] \"GET /model/sample HTTP/1.1\" 200 -\n",
      "127.0.0.1 - - [22/Nov/2024 23:30:21] \"GET /model/sample HTTP/1.1\" 200 -\n",
      "127.0.0.1 - - [22/Nov/2024 23:30:21] \"GET /model/sample HTTP/1.1\" 200 -\n",
      "127.0.0.1 - - [22/Nov/2024 23:30:21] \"GET /model/sample HTTP/1.1\" 200 -\n",
      "127.0.0.1 - - [22/Nov/2024 23:30:33] \"GET /model/explain HTTP/1.1\" 200 -\n",
      "127.0.0.1 - - [22/Nov/2024 23:54:43] \"GET /model/sample HTTP/1.1\" 200 -\n",
      "127.0.0.1 - - [22/Nov/2024 23:54:50] \"GET /model/explain HTTP/1.1\" 200 -\n",
      "/Users/harunrai/Downloads/Data-Analytics/DC-ACADEMIC-2024/Semester 2/Statistical Pred Modelling/Assignment 3 - Webservers/env/lib/python3.11/site-packages/sklearn/base.py:486: UserWarning: X has feature names, but StandardScaler was fitted without feature names\n",
      "  warnings.warn(\n",
      "127.0.0.1 - - [22/Nov/2024 23:55:01] \"POST /model/evaluate HTTP/1.1\" 200 -\n"
     ]
    },
    {
     "name": "stdout",
     "output_type": "stream",
     "text": [
      "Index(['km_driven', 'transmission', 'mileage', 'engine', 'seats', 'fuel',\n",
      "       'seller_type', 'car_used_years'],\n",
      "      dtype='object')\n"
     ]
    },
    {
     "name": "stderr",
     "output_type": "stream",
     "text": [
      "127.0.0.1 - - [22/Nov/2024 23:55:22] \"GET /model/sample HTTP/1.1\" 200 -\n",
      "127.0.0.1 - - [22/Nov/2024 23:55:25] \"GET /model/explain HTTP/1.1\" 200 -\n",
      "/Users/harunrai/Downloads/Data-Analytics/DC-ACADEMIC-2024/Semester 2/Statistical Pred Modelling/Assignment 3 - Webservers/env/lib/python3.11/site-packages/sklearn/base.py:486: UserWarning: X has feature names, but StandardScaler was fitted without feature names\n",
      "  warnings.warn(\n",
      "127.0.0.1 - - [22/Nov/2024 23:55:27] \"POST /model/evaluate HTTP/1.1\" 200 -\n"
     ]
    },
    {
     "name": "stdout",
     "output_type": "stream",
     "text": [
      "Index(['km_driven', 'transmission', 'mileage', 'engine', 'seats', 'fuel',\n",
      "       'seller_type', 'car_used_years'],\n",
      "      dtype='object')\n"
     ]
    },
    {
     "name": "stderr",
     "output_type": "stream",
     "text": [
      "/Users/harunrai/Downloads/Data-Analytics/DC-ACADEMIC-2024/Semester 2/Statistical Pred Modelling/Assignment 3 - Webservers/env/lib/python3.11/site-packages/sklearn/base.py:486: UserWarning: X has feature names, but StandardScaler was fitted without feature names\n",
      "  warnings.warn(\n",
      "127.0.0.1 - - [22/Nov/2024 23:56:07] \"POST /model/evaluate HTTP/1.1\" 200 -\n"
     ]
    },
    {
     "name": "stdout",
     "output_type": "stream",
     "text": [
      "Index(['km_driven', 'fuel', 'seller_type', 'transmission', 'mileage', 'engine',\n",
      "       'seats', 'car_used_years'],\n",
      "      dtype='object')\n"
     ]
    },
    {
     "name": "stderr",
     "output_type": "stream",
     "text": [
      "/Users/harunrai/Downloads/Data-Analytics/DC-ACADEMIC-2024/Semester 2/Statistical Pred Modelling/Assignment 3 - Webservers/env/lib/python3.11/site-packages/sklearn/base.py:486: UserWarning: X has feature names, but StandardScaler was fitted without feature names\n",
      "  warnings.warn(\n",
      "127.0.0.1 - - [22/Nov/2024 23:56:41] \"POST /model/evaluate HTTP/1.1\" 200 -\n"
     ]
    },
    {
     "name": "stdout",
     "output_type": "stream",
     "text": [
      "Index(['km_driven', 'fuel', 'seller_type', 'transmission', 'mileage', 'engine',\n",
      "       'seats', 'car_used_years'],\n",
      "      dtype='object')\n"
     ]
    },
    {
     "name": "stderr",
     "output_type": "stream",
     "text": [
      "/Users/harunrai/Downloads/Data-Analytics/DC-ACADEMIC-2024/Semester 2/Statistical Pred Modelling/Assignment 3 - Webservers/env/lib/python3.11/site-packages/sklearn/base.py:486: UserWarning: X has feature names, but StandardScaler was fitted without feature names\n",
      "  warnings.warn(\n",
      "127.0.0.1 - - [22/Nov/2024 23:56:52] \"POST /model/evaluate HTTP/1.1\" 200 -\n"
     ]
    },
    {
     "name": "stdout",
     "output_type": "stream",
     "text": [
      "Index(['km_driven', 'fuel', 'seller_type', 'transmission', 'mileage', 'engine',\n",
      "       'seats', 'car_used_years'],\n",
      "      dtype='object')\n"
     ]
    },
    {
     "name": "stderr",
     "output_type": "stream",
     "text": [
      "/Users/harunrai/Downloads/Data-Analytics/DC-ACADEMIC-2024/Semester 2/Statistical Pred Modelling/Assignment 3 - Webservers/env/lib/python3.11/site-packages/sklearn/base.py:486: UserWarning: X has feature names, but StandardScaler was fitted without feature names\n",
      "  warnings.warn(\n",
      "127.0.0.1 - - [22/Nov/2024 23:57:02] \"POST /model/evaluate HTTP/1.1\" 200 -\n"
     ]
    },
    {
     "name": "stdout",
     "output_type": "stream",
     "text": [
      "Index(['km_driven', 'fuel', 'seller_type', 'transmission', 'mileage', 'engine',\n",
      "       'seats', 'car_used_years'],\n",
      "      dtype='object')\n"
     ]
    },
    {
     "name": "stderr",
     "output_type": "stream",
     "text": [
      "127.0.0.1 - - [22/Nov/2024 23:57:09] \"GET /model/sample HTTP/1.1\" 200 -\n",
      "127.0.0.1 - - [22/Nov/2024 23:57:09] \"GET /model/sample HTTP/1.1\" 200 -\n",
      "127.0.0.1 - - [22/Nov/2024 23:57:12] \"GET /model/explain HTTP/1.1\" 200 -\n",
      "127.0.0.1 - - [23/Nov/2024 00:24:35] \"GET /model/sample HTTP/1.1\" 200 -\n",
      "127.0.0.1 - - [23/Nov/2024 00:24:36] \"GET /model/sample HTTP/1.1\" 200 -\n",
      "/Users/harunrai/Downloads/Data-Analytics/DC-ACADEMIC-2024/Semester 2/Statistical Pred Modelling/Assignment 3 - Webservers/env/lib/python3.11/site-packages/sklearn/base.py:486: UserWarning: X has feature names, but StandardScaler was fitted without feature names\n",
      "  warnings.warn(\n",
      "127.0.0.1 - - [23/Nov/2024 00:27:23] \"POST /model/evaluate HTTP/1.1\" 200 -\n"
     ]
    },
    {
     "name": "stdout",
     "output_type": "stream",
     "text": [
      "Index(['km_driven', 'fuel', 'seller_type', 'transmission', 'mileage', 'engine',\n",
      "       'seats', 'car_used_years'],\n",
      "      dtype='object')\n"
     ]
    }
   ],
   "source": [
    "app.run()"
   ]
  },
  {
   "cell_type": "code",
   "execution_count": null,
   "metadata": {},
   "outputs": [],
   "source": []
  }
 ],
 "metadata": {
  "kernelspec": {
   "display_name": "env",
   "language": "python",
   "name": "python3"
  },
  "language_info": {
   "codemirror_mode": {
    "name": "ipython",
    "version": 3
   },
   "file_extension": ".py",
   "mimetype": "text/x-python",
   "name": "python",
   "nbconvert_exporter": "python",
   "pygments_lexer": "ipython3",
   "version": "3.11.5"
  }
 },
 "nbformat": 4,
 "nbformat_minor": 2
}
